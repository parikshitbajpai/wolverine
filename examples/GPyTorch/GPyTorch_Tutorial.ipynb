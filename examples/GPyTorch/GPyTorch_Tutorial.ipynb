{
 "cells": [
  {
   "cell_type": "markdown",
   "id": "6bbf250a-8e82-491a-9089-b60c778d0e7b",
   "metadata": {},
   "source": [
    "### GPyTorch Regression Tutorial"
   ]
  },
  {
   "cell_type": "code",
   "execution_count": null,
   "id": "3582ffae-e46d-4e33-b344-2527a81b4ba7",
   "metadata": {},
   "outputs": [],
   "source": [
    "import math\n",
    "import torch\n",
    "import gpytorch\n",
    "import numpy as np\n",
    "from matplotlib import pyplot as plt\n",
    "\n",
    "%matplotlib inline\n",
    "%load_ext autoreload\n",
    "%autoreload 2"
   ]
  },
  {
   "cell_type": "code",
   "execution_count": null,
   "id": "a845d854-90ad-4e01-82dd-3d1463ced4fd",
   "metadata": {},
   "outputs": [],
   "source": [
    "function = np.vectorize(lambda x: np.sin(2 * math.pi * x) + np.random.randn() * math.sqrt(0.04))"
   ]
  },
  {
   "cell_type": "code",
   "execution_count": null,
   "id": "45ad142a-8bc5-4a74-8e08-7aed032e6de1",
   "metadata": {},
   "outputs": [],
   "source": [
    "# x_train = torch.linspace(0, 1, 100)\n",
    "# y_train = function(x_train)\n",
    "\n",
    "x_train = torch.linspace(0, 1, 100)\n",
    "y_train = torch.sin(x_train * (2 * math.pi)) + torch.randn(x_train.size()) * math.sqrt(0.04)"
   ]
  },
  {
   "cell_type": "code",
   "execution_count": null,
   "id": "70e56110-0e7d-4167-9cd2-e177a2187c0a",
   "metadata": {},
   "outputs": [],
   "source": [
    "class ExactGPModel(gpytorch.models.ExactGP):\n",
    "    def __init__(self, x_train, y_train, likelihood):\n",
    "        super(ExactGPModel, self).__init__(x_train, y_train, likelihood)\n",
    "        self.mean_module =  gpytorch.means.ConstantMean()\n",
    "        self.covar_module = gpytorch.kernels.ScaleKernel(gpytorch.kernels.RBFKernel())\n",
    "    def forward(self, x):\n",
    "        mean_x = self.mean_module(x)\n",
    "        covar_x = self.covar_module(x)\n",
    "        return gpytorch.distributions.MultivariateNormal(mean_x, covar_x)"
   ]
  },
  {
   "cell_type": "code",
   "execution_count": null,
   "id": "986463db-932b-4c2a-9a62-6114f45451bd",
   "metadata": {},
   "outputs": [],
   "source": [
    "likelihood = gpytorch.likelihoods.GaussianLikelihood()\n",
    "model = ExactGPModel(x_train, y_train, likelihood)"
   ]
  },
  {
   "cell_type": "code",
   "execution_count": null,
   "id": "4130381a-fa01-4b6a-9418-475024247f7f",
   "metadata": {},
   "outputs": [],
   "source": [
    "import os\n",
    "smoke_test = ('CI' in os.environ)\n",
    "training_iter = 2 if smoke_test else 50\n",
    "\n",
    "model.train()\n",
    "likelihood.train()\n",
    "\n",
    "optimizer = torch.optim.Adam(model.parameters(), lr=0.1)\n",
    "\n",
    "loss_ml = gpytorch.mlls.ExactMarginalLogLikelihood(likelihood, model)\n",
    "\n",
    "for i in range(training_iter):\n",
    "    optimizer.zero_grad()\n",
    "    output = model(x_train)\n",
    "    loss = -loss_ml(output, y_train)\n",
    "    loss.backward()\n",
    "    print(f'Iteration: {i + 1}/{training_iter} \\t Loss: {loss.item():.3f} \\t Lengthscale: {model.covar_module.base_kernel.lengthscale.item():.3f} \\t Noise:{model.likelihood.noise.item():.3f}')\n",
    "    optimizer.step()"
   ]
  },
  {
   "cell_type": "raw",
   "id": "fca68f9d-9395-49ee-8a17-155adefa4091",
   "metadata": {},
   "source": [
    "x_test = torch.linspace(0, 1, 100)\n",
    "f_prediction = model(x_test)\n",
    "y_prediction = likelihood(model(x_test))\n",
    "\n",
    "f_mean = f_prediction.mean\n",
    "f_var = f_prediction.variance\n",
    "f_covar = f_prediction.covariance_matrix\n",
    "f_samples = f_prediction.sample(sample_shape=torch.Size(1000,))"
   ]
  },
  {
   "cell_type": "code",
   "execution_count": null,
   "id": "d853155d-85cd-4b37-8c2f-5b8d4ac16208",
   "metadata": {},
   "outputs": [],
   "source": [
    "model.eval()\n",
    "likelihood.eval()\n",
    "\n",
    "with torch.no_grad(), gpytorch.settings.fast_pred_var():\n",
    "    x_test = torch.linspace(0, 1, 51)\n",
    "    observed_prediction = likelihood(model(x_test))"
   ]
  },
  {
   "cell_type": "code",
   "execution_count": null,
   "id": "634a3fb7-9e40-41f7-a9fe-8fb0cd015ef7",
   "metadata": {},
   "outputs": [],
   "source": [
    "with torch.no_grad():\n",
    "    # Initialize plot\n",
    "    f, ax = plt.subplots(1, 1)\n",
    "\n",
    "    # Get upper and lower confidence bounds\n",
    "    lower, upper = observed_prediction.confidence_region()\n",
    "    # Plot training data as black stars\n",
    "    ax.plot(x_train.numpy(), y_train.numpy(), 'k*')\n",
    "    # Plot predictive means as blue line\n",
    "    ax.plot(x_test.numpy(), observed_prediction.mean.numpy(), 'b')\n",
    "    # Shade between the lower and upper confidence bounds\n",
    "    ax.fill_between(x_test.numpy(), lower.numpy(), upper.numpy(), alpha=0.5)\n",
    "    ax.set_ylim([-3, 3])\n",
    "    ax.legend(['Observed Data', 'Mean', 'Confidence'])\n"
   ]
  }
 ],
 "metadata": {
  "kernelspec": {
   "display_name": "Python 3 (ipykernel)",
   "language": "python",
   "name": "python3"
  },
  "language_info": {
   "codemirror_mode": {
    "name": "ipython",
    "version": 3
   },
   "file_extension": ".py",
   "mimetype": "text/x-python",
   "name": "python",
   "nbconvert_exporter": "python",
   "pygments_lexer": "ipython3",
   "version": "3.11.4"
  }
 },
 "nbformat": 4,
 "nbformat_minor": 5
}
