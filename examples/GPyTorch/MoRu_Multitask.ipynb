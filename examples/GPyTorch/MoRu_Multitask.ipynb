{
 "cells": [
  {
   "cell_type": "markdown",
   "id": "65dad5ae-52b7-41f0-a1a7-ecffedaa9b5f",
   "metadata": {},
   "source": [
    "# MoRu Phase Prediction using GPyTorch Gaussian Process Classifier"
   ]
  },
  {
   "cell_type": "code",
   "execution_count": null,
   "id": "2af84ce0-54ce-44b6-9651-289cfb145ec4",
   "metadata": {},
   "outputs": [],
   "source": [
    "import torch\n",
    "import gpytorch\n",
    "import numpy as np\n",
    "from matplotlib import pyplot as plt"
   ]
  },
  {
   "cell_type": "markdown",
   "id": "9329b11a-7a9c-468e-8b36-6a4962438414",
   "metadata": {},
   "source": [
    "### Generate Dataset from JSON Dump\n",
    "\n",
    "The dataset $\\mathcal{D} \\subset \\mathbb{R}_{\\ge 0}^{n_\\text{samples} \\times (n_\\text{elements} + n_\\text{phases} + 2)}$ is defined as:\n",
    "$$\\mathcal{D} = \\{\\mathbf{x}_i \\, | \\, i \\in \\{1, \\dots, n_\\text{samples}\\}\\}$$\n",
    "where, $\\mathbf{x}_i$ is a single sample such that:\n",
    "$$\\mathbf{x}_i = \\left\\{{T, P, \\{c_j \\, | \\, j \\in \\mathcal{1, \\dots, n_\\text{elements}}\\}, \\{n_\\phi \\, | \\, \\phi \\in \\mathcal{1, \\dots, n_\\text{phases}}\\}}\\right\\}$$\n",
    "where, $c_j$ denotes number of moles of element $j$ and $n_\\phi$ denotes the number of moles of phase $\\phi$."
   ]
  },
  {
   "cell_type": "code",
   "execution_count": null,
   "id": "d829187b-a3a7-4fc4-beb7-114505401631",
   "metadata": {},
   "outputs": [],
   "source": [
    "import json\n",
    "\n",
    "filename = 'data/MoRu_sparse.json'\n",
    "stream = open(filename)\n",
    "data = json.load(stream)\n",
    "stream.close()"
   ]
  },
  {
   "cell_type": "code",
   "execution_count": null,
   "id": "34a08025-c069-4081-9724-2c3c2851faaa",
   "metadata": {},
   "outputs": [],
   "source": [
    "n_data = len(data)\n",
    "n_elements = len(data['2']['elements'])\n",
    "n_phases = len(data['2']['solution phases']) + len(data['2']['pure condensed phases'])\n",
    "dataset = np.zeros((n_data, n_elements + n_phases + 2))\n",
    "\n",
    "phase_names = list(data['2']['solution phases'].keys())\n",
    "phase_names += list(data['2']['pure condensed phases'].keys())\n",
    "element_names = list(data['2']['elements'].keys())"
   ]
  },
  {
   "cell_type": "code",
   "execution_count": null,
   "id": "1fd07584-8d5f-4f55-815a-ed0897eae1e9",
   "metadata": {},
   "outputs": [],
   "source": [
    "keys = list(data.keys())\n",
    "for i in keys:\n",
    "    dataset[keys.index(i), 0] = data[i][\"temperature\"]\n",
    "    dataset[keys.index(i), 1] = data[i][\"pressure\"]\n",
    "\n",
    "    for j in range(n_elements):\n",
    "        if not (data[i]['elements'].get(element_names[j]) is None):\n",
    "            dataset[keys.index(i), 2 + j] = data[i][\"elements\"][element_names[j]][\"moles\"]\n",
    "        else:\n",
    "            dataset[keys.index(i), 2 + j] = 0.0\n",
    "\n",
    "    for j in range(n_phases):\n",
    "        if not (data[i]['solution phases'].get(phase_names[j]) is None):\n",
    "            dataset[keys.index(i), 2 + n_elements + j] = data[i][\"solution phases\"][phase_names[j]][\"moles\"]\n",
    "        elif not (data[i]['pure condensed phases'].get(phase_names[j]) is None):\n",
    "            dataset[keys.index(i), 2 + n_elements + j] = data[i][\"pure condensed phases\"][phase_names[j]][\"moles\"]\n",
    "        else:\n",
    "            dataset[keys.index(i), 2 + n_elements + j]"
   ]
  },
  {
   "cell_type": "markdown",
   "id": "bd040e78",
   "metadata": {},
   "source": [
    "### Filter out zero phases"
   ]
  },
  {
   "cell_type": "code",
   "execution_count": null,
   "id": "bee260db",
   "metadata": {},
   "outputs": [],
   "source": [
    "dataset[:,(2 + n_elements):].argmax(axis=0)\n",
    "dataset[426,:]"
   ]
  },
  {
   "cell_type": "code",
   "execution_count": null,
   "id": "b2122b49",
   "metadata": {},
   "outputs": [],
   "source": [
    "moles_cutoff = 1e-3\n",
    "true_columns = np.any(np.greater(dataset[:,(2 + n_elements):], moles_cutoff), axis=0)\n",
    "true_columns.shape\n",
    "true_columns\n",
    "phase_names"
   ]
  },
  {
   "cell_type": "markdown",
   "id": "6e16cc98",
   "metadata": {},
   "source": [
    "### Generate Training Data\n",
    "\n",
    "- Training samples $n_\\text{Train} = 0.6 * n_\\text{Total}$\n",
    "- Input $\\mathbf{X} = {T, P, \\mathbf{c}}$\n",
    "- Output $\\mathbf{y} = {\\mathbf{n}_\\phi}$"
   ]
  },
  {
   "cell_type": "code",
   "execution_count": null,
   "id": "793731c7",
   "metadata": {},
   "outputs": [],
   "source": [
    "n_training = int(n_data * 0.6)\n",
    "\n",
    "choice = np.random.choice(range(dataset.shape[0]), size=(n_training,), replace=False)\n",
    "train_indices = np.zeros(dataset.shape[0], dtype=bool)\n",
    "train_indices[choice] = True\n",
    "test_indices = ~train_indices\n",
    "\n",
    "\n",
    "train = dataset[train_indices]\n",
    "test = dataset[test_indices]\n",
    "\n",
    "X_train = train[:,0:(2 + n_elements)]\n",
    "\n",
    "# Change the outputs to 0.0 / 1.0 based on the number of moles of phase\n",
    "# y_train = (train[:,(2 + n_elements):] > 0.0).astype(float)\n",
    "\n",
    "# Use the original moles \n",
    "y_train = train[:,(2 + n_elements):]"
   ]
  },
  {
   "cell_type": "code",
   "execution_count": null,
   "id": "5a82f7f5",
   "metadata": {},
   "outputs": [],
   "source": [
    "# Convert to Torch tensors\n",
    "X_train = torch.tensor(X_train, dtype=torch.float32)\n",
    "X_train_unscaled = X_train.detach().clone()\n",
    "y_train = torch.tensor(y_train, dtype=torch.float32)\n",
    "y_train_unscaled = y_train.detach().clone()"
   ]
  },
  {
   "cell_type": "code",
   "execution_count": null,
   "id": "4ed28409",
   "metadata": {},
   "outputs": [],
   "source": [
    "# Calculate mean and standard deviation of inputs\n",
    "X_mean = X_train.mean(0,keepdim=True)\n",
    "X_std = X_train.std(0,keepdim=True)\n",
    "\n",
    "# Standard deviation of pressure is equal to 0.0. Change this to 1.0 to avoid division by zero when scaling\n",
    "X_std[X_std == 0] = 1.0\n",
    "\n",
    "# Scale inputs to mean 0 and standard deviation 1 for better convergence\n",
    "X_train = (X_train - X_mean) / X_std"
   ]
  },
  {
   "cell_type": "markdown",
   "id": "da270609",
   "metadata": {},
   "source": [
    "### Test Data"
   ]
  },
  {
   "cell_type": "code",
   "execution_count": null,
   "id": "73de37aa",
   "metadata": {},
   "outputs": [],
   "source": [
    "# Scale test input values to mean 0 and standard deviation 1 based on values from before\n",
    "X_test_unscaled = torch.tensor(test[:,0:(2 + n_elements)], dtype=torch.float32)\n",
    "X_test = (X_test_unscaled - X_mean) / X_std\n",
    "\n",
    "# 0 / 1 Output case\n",
    "y_test = (test[:,(2 + n_elements):] > 0.0).astype(float)\n",
    "\n",
    "# Original moles of phase\n",
    "# y_test = test[:,(2 + n_elements):]\n",
    "y_test = torch.tensor(y_test, dtype=torch.float32)\n",
    "\n",
    "# Combined test and training data\n",
    "X_all_unscaled = torch.cat([X_train_unscaled, X_test_unscaled])\n",
    "X_all = torch.cat([X_train, X_test])\n",
    "y_all = torch.cat([y_train, y_test])"
   ]
  },
  {
   "cell_type": "markdown",
   "id": "6aa75d1b",
   "metadata": {},
   "source": [
    "### Input Space Mapping"
   ]
  },
  {
   "cell_type": "code",
   "execution_count": null,
   "id": "5b8494f1",
   "metadata": {},
   "outputs": [],
   "source": [
    "labels = ['Temperature', 'Pressure', 'Moles_Mo', 'Moles_Ru']\n",
    "n_columns = len(labels)\n",
    "\n",
    "fig, ax = plt.subplots(nrows=n_columns, ncols=n_columns, figsize=(20, 20))\n",
    "\n",
    "for i in range(n_columns):\n",
    "  for j in range(n_columns):\n",
    "    reduced, counts = np.unique(np.transpose(np.array([X_all_unscaled[:,i], X_all_unscaled[:,j]])), axis=0, return_counts=True)\n",
    "    rx, ry = np.transpose(reduced)\n",
    "\n",
    "    ax[i][j].scatter(rx, ry, c=counts, s=1)\n",
    "    ax[i][j].set_xlabel(labels[i])\n",
    "    ax[i][j].set_ylabel(labels[j])\n",
    "\n",
    "fig.suptitle('Input Space Mapping\\n')\n",
    "fig.tight_layout()"
   ]
  },
  {
   "cell_type": "markdown",
   "id": "471740be",
   "metadata": {},
   "source": [
    "### Softmax Normalization\n",
    "\n",
    "Applies the Softmax function to output phase moles and rescales the moles to probabilities:\n",
    "$$\\text{Softmax}(x_i) = \\frac{\\exp{(x_i)}}{\\sum_j \\exp{(x_j)}}$$"
   ]
  },
  {
   "cell_type": "code",
   "execution_count": null,
   "id": "eb49c45e",
   "metadata": {},
   "outputs": [],
   "source": [
    "normalization = torch.nn.Softmax(dim=1)\n",
    "y_train_normalized = normalization(y_train)\n",
    "y_test_normalized = normalization(y_test)"
   ]
  },
  {
   "cell_type": "markdown",
   "id": "8de2dc34",
   "metadata": {},
   "source": [
    "### Multitask Model"
   ]
  },
  {
   "cell_type": "code",
   "execution_count": null,
   "id": "d8a41f97",
   "metadata": {},
   "outputs": [],
   "source": [
    "class MultiTaskGPModel(gpytorch.models.ExactGP):\n",
    "  def __init__(self, train_x, train_y, likelihood):\n",
    "    super(MultiTaskGPModel, self).__init__(train_x, train_y, likelihood)\n",
    "    self.mean_module = gpytorch.means.MultitaskMean(gpytorch.means.ConstantMean(), num_tasks=10)\n",
    "    self.covar_module = gpytorch.kernels.MultitaskKernel(gpytorch.kernels.RBFKernel(), num_tasks=10, rank=1)\n",
    "\n",
    "  def forward(self, x):\n",
    "    mean_x = self.mean_module(x)\n",
    "    covar_x = self.covar_module(x)\n",
    "    return gpytorch.distributions.MultitaskMultivariateNormal(mean_x, covar_x)\n",
    "  \n",
    "likelihood = gpytorch.likelihoods.MultitaskGaussianLikelihood(num_tasks=10)\n",
    "model = MultiTaskGPModel(X_train, y_train_normalized, likelihood)"
   ]
  },
  {
   "cell_type": "markdown",
   "id": "fc7c23f7",
   "metadata": {},
   "source": [
    "### Training"
   ]
  },
  {
   "cell_type": "code",
   "execution_count": null,
   "id": "e943c37c",
   "metadata": {},
   "outputs": [],
   "source": [
    "training_iterations = 100\n",
    "\n",
    "# Find optimal model hyperparameters\n",
    "model.train()\n",
    "likelihood.train()\n",
    "\n",
    "# Use the adam optimizer\n",
    "optimizer = torch.optim.Adam(model.parameters(), lr=0.1)  # Includes GaussianLikelihood parameters\n",
    "\n",
    "# \"Loss\" for GPs - the marginal log likelihood\n",
    "mll = gpytorch.mlls.ExactMarginalLogLikelihood(likelihood, model)\n",
    "\n",
    "for i in range(training_iterations):\n",
    "    optimizer.zero_grad()\n",
    "    output = model(X_train)\n",
    "    loss = -mll(output, y_train_normalized)\n",
    "    loss.backward()\n",
    "    print(f'Iter{i+1}/{training_iterations} - Loss: {loss.item()}')\n",
    "    optimizer.step()"
   ]
  },
  {
   "cell_type": "markdown",
   "id": "b9ed3038",
   "metadata": {},
   "source": [
    "### Predictions"
   ]
  },
  {
   "cell_type": "code",
   "execution_count": null,
   "id": "b910e4f5",
   "metadata": {},
   "outputs": [],
   "source": [
    "# Set to eval mode\n",
    "model.eval()\n",
    "likelihood.eval()\n",
    "\n",
    "# Make predictions\n",
    "with torch.no_grad(), gpytorch.settings.fast_pred_var():\n",
    "  predictions = likelihood(model(X_test))\n",
    "  means = predictions.mean\n",
    "  lower, upper = predictions.confidence_region()"
   ]
  },
  {
   "cell_type": "markdown",
   "id": "8f801b3a",
   "metadata": {},
   "source": [
    "### Plots"
   ]
  },
  {
   "cell_type": "code",
   "execution_count": null,
   "id": "ecebbaee",
   "metadata": {},
   "outputs": [],
   "source": [
    "\n",
    "fig, axs = plt.subplots(nrows=1, ncols=len(phase_names), figsize=(50,5))\n",
    "\n",
    "for i in range(len(phase_names)):\n",
    "  ax  = axs[i]\n",
    "  ax.set_xlabel('Mo')\n",
    "  ax.set_ylabel('T')\n",
    "  ax.set_title(phase_names[i])\n",
    "  scatter = ax.scatter(X_test[:,2].numpy(), X_test[:,0].numpy(), c=(means[:,i]).numpy(), marker='.', cmap='summer_r')\n",
    "  fig.colorbar(scatter, orientation='horizontal', ax=ax)\n"
   ]
  },
  {
   "cell_type": "code",
   "execution_count": null,
   "id": "45a156d3",
   "metadata": {},
   "outputs": [],
   "source": [
    "from matplotlib import colors\n",
    "\n",
    "fig, axs = plt.subplots(nrows=1, ncols=len(phase_names), figsize=(50,5))\n",
    "scatters = []\n",
    "\n",
    "for i in range(len(phase_names)):\n",
    "  axs[i].set_xlabel('Mo')\n",
    "  axs[i].set_ylabel('T')\n",
    "  axs[i].set_title(phase_names[i])\n",
    "  scatters.append(axs[i].scatter(X_test_unscaled[:,2].numpy(), X_test_unscaled[:,0].numpy(), c=(means[:,i]).numpy(),\n",
    "                                 marker='.',\n",
    "                                 cmap='Blues'))\n",
    "\n",
    "# Find the min and max of all colors for use in setting the color scale.\n",
    "vmin = min(scatter.get_array().min() for scatter in scatters)\n",
    "vmax = max(scatter.get_array().max() for scatter in scatters)\n",
    "norm = colors.Normalize(vmin=vmin, vmax=vmax)\n",
    "for sc in scatters:\n",
    "    sc.set_norm(norm)\n",
    "\n",
    "fig.colorbar(scatters[0], ax=axs, orientation='horizontal', fraction=.1)\n",
    "\n",
    "# Make images respond to changes in the norm of other images (e.g. via the\n",
    "# \"edit axis, curves and images parameters\" GUI on Qt), but be careful not to\n",
    "# recurse infinitely!\n",
    "def update(changed_scatter):\n",
    "    for sc in scatters:\n",
    "        if (changed_scatter.get_cmap() != sc.get_cmap()\n",
    "                or changed_scatter.get_clim() != sc.get_clim()):\n",
    "            sc.set_cmap(changed_scatter.get_cmap())\n",
    "            sc.set_clim(changed_scatter.get_clim())\n",
    "\n",
    "for sc in scatters:\n",
    "    sc.callbacks.connect('changed', update)\n",
    "\n",
    "plt.show()\n"
   ]
  },
  {
   "cell_type": "markdown",
   "id": "286fb569",
   "metadata": {},
   "source": [
    "### Error Analysis"
   ]
  },
  {
   "cell_type": "code",
   "execution_count": null,
   "id": "133a2d16",
   "metadata": {},
   "outputs": [],
   "source": [
    "errors = np.zeros(y_test.shape)\n",
    "fig, axs = plt.subplots(nrows=1, ncols=len(phase_names), figsize=(50,5))\n",
    "cutoff = 0.1\n",
    "# cmap = colors.ListedColormap(['tab:red', 'tab:green'])\n",
    "\n",
    "for i in range(len(phase_names)):\n",
    "  # errors[:,i] = (np.logical_and(y_test[:, i].numpy() >= lower[:, i].numpy(),  y_test[:, i].numpy() <= upper[:, i].numpy())).astype(float)\n",
    "  errors[:,i] = (np.logical_xor(y_test[:, i].numpy() >= cutoff, means[:, i].numpy() >= cutoff))\n",
    "  ax  = axs[i]\n",
    "  ax.set_xlabel('Mo')\n",
    "  ax.set_ylabel('T')\n",
    "  ax.set_title(phase_names[i])\n",
    "  scatter = ax.scatter(X_test[:,2].numpy(), X_test[:,0].numpy(), c=errors[:,i], marker='.', cmap=colors.ListedColormap(['tab:green', 'tab:red']))\n",
    "  fig.colorbar(scatter, orientation='horizontal', ax=ax)\n",
    "  "
   ]
  },
  {
   "cell_type": "code",
   "execution_count": null,
   "id": "1134b650",
   "metadata": {},
   "outputs": [],
   "source": []
  }
 ],
 "metadata": {
  "kernelspec": {
   "display_name": "Python 3 (ipykernel)",
   "language": "python",
   "name": "python3"
  },
  "language_info": {
   "codemirror_mode": {
    "name": "ipython",
    "version": 3
   },
   "file_extension": ".py",
   "mimetype": "text/x-python",
   "name": "python",
   "nbconvert_exporter": "python",
   "pygments_lexer": "ipython3",
   "version": "3.11.4"
  }
 },
 "nbformat": 4,
 "nbformat_minor": 5
}
