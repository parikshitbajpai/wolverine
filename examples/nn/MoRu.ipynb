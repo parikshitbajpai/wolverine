{
 "cells": [
  {
   "cell_type": "markdown",
   "id": "dab5acc9-3c30-4e70-89d2-dd3152202a7b",
   "metadata": {},
   "source": [
    "# Mo Ru Surrogate Model using Neural Networks"
   ]
  },
  {
   "cell_type": "code",
   "execution_count": null,
   "id": "8f7feaaf-f29c-48e6-9980-cfae7041c911",
   "metadata": {},
   "outputs": [],
   "source": [
    "import math\n",
    "import torch\n",
    "import torch.nn as nn\n",
    "import torch.optim as optim\n",
    "import numpy as np\n",
    "from matplotlib import pyplot as plt"
   ]
  },
  {
   "cell_type": "markdown",
   "id": "efec3eee-69e6-46b8-8fd3-746b9fa6a672",
   "metadata": {},
   "source": [
    "### Read and Dump JSON"
   ]
  },
  {
   "cell_type": "code",
   "execution_count": null,
   "id": "3df51d65-8e7f-4daf-b541-491e50f9e8ef",
   "metadata": {},
   "outputs": [],
   "source": [
    "import json\n",
    "\n",
    "filename = 'data/MoRu_sparse.json'\n",
    "stream = open(filename)\n",
    "data = json.load(stream)\n",
    "stream.close()"
   ]
  },
  {
   "cell_type": "markdown",
   "id": "63a7755f-a245-4770-96bf-990b9dbdad77",
   "metadata": {},
   "source": [
    "### Generate Dataset from JSON Dump\n",
    "\n",
    "The dataset $\\mathcal{D} \\subset \\mathbb{R}_{\\ge 0}^{n_\\text{samples} \\times (n_\\text{elements} + n_\\text{phases} + 2)}$ is defined as:\n",
    "$$\\mathcal{D} = \\{\\mathbf{x}_i \\, | \\, i \\in \\{1, \\dots, n_\\text{samples}\\}\\}$$\n",
    "where, $\\mathbf{x}_i$ is a single sample such that:\n",
    "$$\\mathbf{x}_i = \\left\\{{T, P, \\{c_j \\, | \\, j \\in \\mathcal{1, \\dots, n_\\text{elements}}\\}, \\{n_\\phi \\, | \\, \\phi \\in \\mathcal{1, \\dots, n_\\text{phases}}\\}}\\right\\}$$\n",
    "where, $c_j$ denotes number of moles of element $j$ and $n_\\phi$ denotes the number of moles of phase $\\phi$."
   ]
  },
  {
   "cell_type": "code",
   "execution_count": null,
   "id": "c7656315-b4e4-4f2a-8bc6-04e34037abad",
   "metadata": {},
   "outputs": [],
   "source": [
    "n_data = len(data)\n",
    "n_elements = len(data['2']['elements'])\n",
    "n_phases = len(data['2']['solution phases']) + len(data['2']['pure condensed phases'])\n",
    "dataset = np.zeros((n_data, n_elements + n_phases + 2))\n",
    "\n",
    "phase_names = list(data['2']['solution phases'].keys())\n",
    "phase_names += list(data['2']['pure condensed phases'].keys())\n",
    "element_names = list(data['2']['elements'].keys())"
   ]
  },
  {
   "cell_type": "code",
   "execution_count": null,
   "id": "136d97c3-dd38-41cb-bf49-124eb405cbe2",
   "metadata": {},
   "outputs": [],
   "source": [
    "keys = list(data.keys())\n",
    "for i in keys:\n",
    "    dataset[keys.index(i), 0] = data[i][\"temperature\"]\n",
    "    dataset[keys.index(i), 1] = data[i][\"pressure\"]\n",
    "\n",
    "    for j in range(n_elements):\n",
    "        if not (data[i]['elements'].get(element_names[j]) is None):\n",
    "            dataset[keys.index(i), 2 + j] = data[i][\"elements\"][element_names[j]][\"moles\"]\n",
    "        else:\n",
    "            dataset[keys.index(i), 2 + j] = 0.0\n",
    "\n",
    "    for j in range(n_phases):\n",
    "        if not (data[i]['solution phases'].get(phase_names[j]) is None):\n",
    "            dataset[keys.index(i), 2 + n_elements + j] = data[i][\"solution phases\"][phase_names[j]][\"moles\"]\n",
    "        elif not (data[i]['pure condensed phases'].get(phase_names[j]) is None):\n",
    "            dataset[keys.index(i), 2 + n_elements + j] = data[i][\"pure condensed phases\"][phase_names[j]][\"moles\"]\n",
    "        else:\n",
    "            dataset[keys.index(i), 2 + n_elements + j]"
   ]
  },
  {
   "cell_type": "markdown",
   "id": "5938a17c-4608-4106-866a-72c9115e05fa",
   "metadata": {},
   "source": [
    "### Generate Training Data\n",
    "\n",
    "- Training samples $n_\\text{Train} = 0.6 * n_\\text{Total}$\n",
    "- Input $\\mathbf{X} = {T, P, \\mathbf{c}}$\n",
    "- Output $\\mathbf{y} = {\\mathbf{n}_\\phi}$"
   ]
  },
  {
   "cell_type": "code",
   "execution_count": null,
   "id": "df712818-5cbc-48bb-85ef-73113a51bdfa",
   "metadata": {},
   "outputs": [],
   "source": [
    "n_training = int(n_data * 0.6)\n",
    "\n",
    "choice = np.random.choice(range(dataset.shape[0]), size=(n_training,), replace=False)\n",
    "train_indices = np.zeros(dataset.shape[0], dtype=bool)\n",
    "train_indices[choice] = True\n",
    "test_indices = ~train_indices\n",
    "\n",
    "train = dataset[train_indices]\n",
    "test = dataset[test_indices]\n",
    "\n",
    "# Change the outputs to 0 / 1 based on the number of moles of phase\n",
    "X = train[:,0:(2 + n_elements)]\n",
    "y = (train[:,(2 + n_elements):] > 0.0).astype(int)"
   ]
  },
  {
   "cell_type": "code",
   "execution_count": null,
   "id": "fd32b6e7-752a-4831-99ef-daa4e9c06bf3",
   "metadata": {},
   "outputs": [],
   "source": [
    "# Convert to torch tensors\n",
    "X = torch.tensor(X, dtype=torch.float32)\n",
    "X_unscaled = X.detach().clone()\n",
    "y = torch.tensor(y, dtype=torch.bool).reshape(-1, n_phases)\n",
    "y_unscaled = y.detach().clone()"
   ]
  },
  {
   "cell_type": "code",
   "execution_count": null,
   "id": "a47e7c67-3058-4f40-a944-451f3bcc452f",
   "metadata": {},
   "outputs": [],
   "source": [
    "# Scale input to mean 0 and standard deviation 1 for better convergence\n",
    "X_mean = X.mean(0,keepdim=True)\n",
    "X_std = X.std(0,keepdim=True)\n",
    "X = (X - X_mean) / X_std"
   ]
  },
  {
   "cell_type": "markdown",
   "id": "d27d14b7",
   "metadata": {},
   "source": [
    "### Test Data"
   ]
  },
  {
   "cell_type": "code",
   "execution_count": null,
   "id": "81c977a9-eb47-4c42-a887-b86a386b2318",
   "metadata": {},
   "outputs": [],
   "source": [
    "# Scale input values to mean 0 and standard deviation 1 based on values from before\n",
    "X_test_unscaled = torch.tensor(test[:,0:(2 + n_elements)], dtype=torch.float32)\n",
    "X_test = (X_test_unscaled - X_mean) / X_std\n",
    "y_test = torch.tensor(test[:,(2 + n_elements):], dtype=torch.bool).reshape(-1, n_phases)\n",
    "\n",
    "# Combined test and training data\n",
    "X_all_unscaled = torch.cat([X_unscaled, X_test_unscaled])\n",
    "X_all = torch.cat([X, X_test])\n",
    "y_all = torch.cat([y, y_test])"
   ]
  },
  {
   "cell_type": "markdown",
   "id": "aa115c5b",
   "metadata": {},
   "source": [
    "### Neural Network Model"
   ]
  },
  {
   "cell_type": "code",
   "execution_count": null,
   "id": "078de518-1a15-405f-b5d0-c49152434b14",
   "metadata": {},
   "outputs": [],
   "source": [
    "input_size = X_test.shape[1]\n",
    "hidden_size = [10, 10]\n",
    "output_size = y_test.shape[1]\n",
    "\n",
    "model = nn.Sequential(\n",
    "    nn.Linear(input_size, hidden_size[0]),\n",
    "    nn.ReLU(),\n",
    "    nn.Linear(hidden_size[0], hidden_size[1]),\n",
    "    nn.ReLU(),\n",
    "    nn.Linear(hidden_size[1], output_size),\n",
    "    nn.Sigmoid())\n",
    "\n",
    "model"
   ]
  },
  {
   "cell_type": "code",
   "execution_count": null,
   "id": "2002ab32-0b83-4d6c-b8a1-59abb09737b7",
   "metadata": {},
   "outputs": [],
   "source": [
    "loss_fn = nn.BCELoss()  # binary cross entropy\n",
    "optimizer = optim.Adam(model.parameters(), lr=0.001)"
   ]
  },
  {
   "cell_type": "markdown",
   "id": "47a8ae3d",
   "metadata": {},
   "source": [
    "### Training"
   ]
  },
  {
   "cell_type": "code",
   "execution_count": null,
   "id": "227ad204-6542-4ba5-a1b7-bd9f87fcdfec",
   "metadata": {
    "scrolled": true
   },
   "outputs": [],
   "source": [
    "n_epochs = 10000\n",
    "batch_size = 100\n",
    " \n",
    "for epoch in range(n_epochs):\n",
    "    for i in range(0, len(X), batch_size):\n",
    "        Xbatch = X[i:i+batch_size]\n",
    "        y_pred = model(Xbatch)\n",
    "        ybatch = y[i:i+batch_size]\n",
    "        loss = loss_fn(y_pred, ybatch)\n",
    "        optimizer.zero_grad()\n",
    "        loss.backward()\n",
    "        optimizer.step()\n",
    "    print(f'Finished epoch {epoch}, latest loss {loss}')"
   ]
  },
  {
   "cell_type": "code",
   "execution_count": null,
   "id": "f14748d7-e179-4026-80c0-686573128cde",
   "metadata": {},
   "outputs": [],
   "source": [
    "# compute accuracy for NN data set\n",
    "with torch.no_grad():\n",
    "    y_pred = model(X_all)\n",
    "\n",
    "diff = (y_pred - y_all) * y_std\n",
    "accuracy =(diff**2).mean()**.5\n",
    "delta_min = diff.min()\n",
    "delta_max = diff.max()\n",
    "print(f\"NN Absolute RMS Accuracy {accuracy},  Min {delta_min}, Max {delta_max}\")\n",
    "\n",
    "diff = (y_pred - y_all) / y_all\n",
    "accuracy =(diff**2).mean()**.5\n",
    "delta_min = diff.min()\n",
    "delta_max = diff.max()\n",
    "print(f\"NN Relative RMS Accuracy {accuracy},  Min {delta_min}, Max {delta_max}\")"
   ]
  },
  {
   "cell_type": "code",
   "execution_count": null,
   "id": "6678645e-626b-452d-af73-12b8d85d55f6",
   "metadata": {},
   "outputs": [],
   "source": [
    "# Creating figure\n",
    "fig = plt.figure(figsize = (10, 7))\n",
    "ax = plt.axes(projection =\"3d\")\n",
    " \n",
    "# evaluate the model\n",
    "with torch.no_grad():\n",
    "    y_pred = model(X)\n",
    "\n",
    "# Creating plot\n",
    "ax.scatter3D(X_unscaled[:,0], X_unscaled[:,1], y_unscaled, color = \"green\", label = \"Input\")\n",
    "ax.scatter3D(X_unscaled[:,0], X_unscaled[:,1], y_pred*y_std + y_mean, color = \"red\", label = \"Output\")\n",
    "plt.title(\"Moles of BCCN (training)\")\n",
    "plt.xlabel(\"T\")\n",
    "plt.ylabel(\"Moles Mo\")\n",
    " \n",
    "# show plot\n",
    "plt.show()"
   ]
  },
  {
   "cell_type": "code",
   "execution_count": null,
   "id": "f78ae117-c99d-43de-b497-39406f2559c4",
   "metadata": {},
   "outputs": [],
   "source": [
    "# Creating figure\n",
    "fig = plt.figure(figsize = (10, 7))\n",
    "ax = plt.axes(projection =\"3d\")\n",
    " \n",
    "# evaluate the model\n",
    "with torch.no_grad():\n",
    "    y_pred = model(X_test)\n",
    "\n",
    "# Creating plot\n",
    "X_test_unscaled = X_test * X_std + X_mean\n",
    "ax.scatter3D(X_test_unscaled[:,0], X_test_unscaled[:,1], y_test * y_std + y_mean, color = \"green\")\n",
    "ax.scatter3D(X_test_unscaled[:,0], X_test_unscaled[:,1], y_pred * y_std + y_mean, color = \"red\")\n",
    "plt.title(\"Moles of BCCN (training)\")\n",
    "plt.xlabel(\"T\")\n",
    "plt.ylabel(\"Moles Mo\")\n",
    " \n",
    "# show plot\n",
    "plt.show()\n"
   ]
  },
  {
   "cell_type": "code",
   "execution_count": null,
   "id": "6428007b-0bfa-490d-b71b-bcffc40c7fb3",
   "metadata": {},
   "outputs": [],
   "source": [
    "# Creating figure\n",
    "fig = plt.figure(figsize = (10, 7))\n",
    "ax = plt.axes(projection =\"3d\")\n",
    " \n",
    "# evaluate the model\n",
    "with torch.no_grad():\n",
    "    y_pred1 = model(X)\n",
    "    y_pred2 = model(X_test)\n",
    "\n",
    "# NN error\n",
    "y_pred = torch.cat([y_pred1, y_pred2])\n",
    "y_err = (y_all - y_pred) / y_all\n",
    "\n",
    "sc = ax.scatter3D(X_all_unscaled[:,0], X_all_unscaled[:,1], y_err, c=y_err)\n",
    "fig.colorbar(sc, ax=ax)\n",
    "\n",
    "plt.title(\"Moles BCCN (relative error)\")\n",
    " \n",
    "# show plot\n",
    "plt.show()"
   ]
  },
  {
   "cell_type": "code",
   "execution_count": null,
   "id": "90c13947-03ee-44ce-a074-7cea099390d4",
   "metadata": {},
   "outputs": [],
   "source": []
  }
 ],
 "metadata": {
  "kernelspec": {
   "display_name": "Python 3 (ipykernel)",
   "language": "python",
   "name": "python3"
  },
  "language_info": {
   "codemirror_mode": {
    "name": "ipython",
    "version": 3
   },
   "file_extension": ".py",
   "mimetype": "text/x-python",
   "name": "python",
   "nbconvert_exporter": "python",
   "pygments_lexer": "ipython3",
   "version": "3.11.4"
  }
 },
 "nbformat": 4,
 "nbformat_minor": 5
}
